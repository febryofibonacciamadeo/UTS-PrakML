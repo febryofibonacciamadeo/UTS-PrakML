import pandas as pd
from sklearn.tree import DecisionTreeClassifier, plot_tree
from sklearn.preprocessing import LabelEncoder
from sklearn.model_selection import train_test_split
from sklearn.metrics import accuracy_score, classification_report, confusion_matrix
import matplotlib.pyplot as plt

df = pd.read_csv('dataset_buys _comp.csv')

le = LabelEncoder()
for col in ['Age', 'Income', 'Student', 'Credit_Rating']:
    df[col] = le.fit_transform(df[col])

X = df.drop('Buys_Computer', axis=1)
y = df['Buys_Computer']


X_train, X_test, y_train, y_test = train_test_split(X, y, test_size=0.2, random_state=42)

clf = DecisionTreeClassifier(criterion='entropy')
clf.fit(X_train, y_train)

y_pred = clf.predict(X_test)
print("Akurasi:", accuracy_score(y_test, y_pred))
print("Confusion Matrix:\n", confusion_matrix(y_test, y_pred))
print("Classification Report:\n", classification_report(y_test, y_pred))

plt.figure(figsize=(12, 8))
plot_tree(clf, feature_names=X.columns, class_names=["Tidak", "Ya"], filled=True)
plt.show()
